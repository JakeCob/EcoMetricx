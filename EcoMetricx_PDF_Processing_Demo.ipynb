{
 "cells": [
  {
   "cell_type": "markdown",
   "metadata": {},
   "source": [
    "# EcoMetricx: Advanced PDF Processing & Visual Element Extraction\n",
    "\n",
    "**A Comprehensive Demonstration of Multi-Modal Document Intelligence**\n",
    "\n",
    "---\n",
    "\n",
    "## 🎯 Project Overview\n",
    "\n",
    "Welcome to **EcoMetricx** - an advanced PDF processing system designed to extract maximum value from energy documents and reports. This notebook demonstrates a complete pipeline that can:\n",
    "\n",
    "- 📄 **Extract text** from PDFs using multiple intelligent methods\n",
    "- 👁️ **Process visual content** exactly as humans see it \n",
    "- 🔍 **Identify and extract** tables, charts, and images automatically\n",
    "- 🤖 **Apply OCR technology** to capture text from screenshots\n",
    "- 📊 **Provide diagnostic insights** about extraction quality\n",
    "\n",
    "### Why This Matters\n",
    "\n",
    "Traditional PDF extraction often fails because:\n",
    "- **Hidden text layers** may contain garbled or invisible data\n",
    "- **Visual elements** like charts and tables are difficult to parse programmatically\n",
    "- **Different PDF formats** require different extraction strategies\n",
    "\n",
    "Our solution uses a **hybrid approach** that combines the best of both worlds: programmatic efficiency and visual accuracy.\n",
    "\n",
    "---\n",
    "\n",
    "## 🛠️ Environment Setup\n",
    "\n",
    "Let's start by setting up our development environment. Think of this as preparing your toolbox before starting a complex project."
   ]
  },
  {
   "cell_type": "markdown",
   "metadata": {},
   "source": [
    "### Step 1: Check Your Python Environment\n",
    "\n",
    "First, let's verify we're using the correct Python environment. This is crucial because different projects may require different versions of libraries."
   ]
  },
  {
   "cell_type": "code",
   "execution_count": 1,
   "metadata": {},
   "outputs": [
    {
     "name": "stdout",
     "output_type": "stream",
     "text": [
      "🐍 Python Version: 3.11.13 | packaged by conda-forge | (main, Jun  4 2025, 14:48:23) [GCC 13.3.0]\n",
      "💻 Platform: Linux-5.15.167.4-microsoft-standard-WSL2-x86_64-with-glibc2.35\n",
      "📁 Python Executable: /root/anaconda3/envs/pdf-extractor/bin/python\n",
      "🌐 Conda Environment: pdf-extractor\n"
     ]
    }
   ],
   "source": [
    "import sys\n",
    "import platform\n",
    "print(f\"🐍 Python Version: {sys.version}\")\n",
    "print(f\"💻 Platform: {platform.platform()}\")\n",
    "print(f\"📁 Python Executable: {sys.executable}\")\n",
    "\n",
    "# Check if we're in the correct conda environment\n",
    "import os\n",
    "conda_env = os.environ.get('CONDA_DEFAULT_ENV', 'Not in conda environment')\n",
    "print(f\"🌐 Conda Environment: {conda_env}\")"
   ]
  },
  {
   "cell_type": "markdown",
   "metadata": {},
   "source": [
    "### Step 2: Install Required Libraries\n",
    "\n",
    "Now we'll install all the libraries our system needs. Each library serves a specific purpose:\n",
    "\n",
    "- **pdf2image**: Converts PDF pages to high-quality screenshots\n",
    "- **pytesseract**: Google's OCR engine for reading text from images\n",
    "- **opencv-python**: Computer vision library for image processing\n",
    "- **scikit-image**: Advanced image analysis and processing\n",
    "- **pdfplumber**: Programmatic PDF text extraction\n",
    "- **matplotlib & plotly**: Data visualization libraries\n",
    "- **Pillow**: Python's image processing library"
   ]
  },
  {
   "cell_type": "code",
   "execution_count": null,
   "metadata": {},
   "outputs": [
    {
     "name": "stdout",
     "output_type": "stream",
     "text": [
      "\u001b[33mWARNING: Running pip as the 'root' user can result in broken permissions and conflicting behaviour with the system package manager, possibly rendering your system unusable. It is recommended to use a virtual environment instead: https://pip.pypa.io/warnings/venv. Use the --root-user-action option if you know what you are doing and want to suppress this warning.\u001b[0m\u001b[33m\n",
      "\u001b[0m\u001b[33mWARNING: Running pip as the 'root' user can result in broken permissions and conflicting behaviour with the system package manager, possibly rendering your system unusable. It is recommended to use a virtual environment instead: https://pip.pypa.io/warnings/venv. Use the --root-user-action option if you know what you are doing and want to suppress this warning.\u001b[0m\u001b[33m\n",
      "\u001b[0m\u001b[33mWARNING: Running pip as the 'root' user can result in broken permissions and conflicting behaviour with the system package manager, possibly rendering your system unusable. It is recommended to use a virtual environment instead: https://pip.pypa.io/warnings/venv. Use the --root-user-action option if you know what you are doing and want to suppress this warning.\u001b[0m\u001b[33m\n",
      "\u001b[0m\u001b[33mWARNING: Running pip as the 'root' user can result in broken permissions and conflicting behaviour with the system package manager, possibly rendering your system unusable. It is recommended to use a virtual environment instead: https://pip.pypa.io/warnings/venv. Use the --root-user-action option if you know what you are doing and want to suppress this warning.\u001b[0m\u001b[33m\n",
      "\u001b[0m\u001b[33mWARNING: Running pip as the 'root' user can result in broken permissions and conflicting behaviour with the system package manager, possibly rendering your system unusable. It is recommended to use a virtual environment instead: https://pip.pypa.io/warnings/venv. Use the --root-user-action option if you know what you are doing and want to suppress this warning.\u001b[0m\u001b[33m\n",
      "\u001b[0m\u001b[33mWARNING: Running pip as the 'root' user can result in broken permissions and conflicting behaviour with the system package manager, possibly rendering your system unusable. It is recommended to use a virtual environment instead: https://pip.pypa.io/warnings/venv. Use the --root-user-action option if you know what you are doing and want to suppress this warning.\u001b[0m\u001b[33m\n",
      "\u001b[0m\u001b[33mWARNING: Running pip as the 'root' user can result in broken permissions and conflicting behaviour with the system package manager, possibly rendering your system unusable. It is recommended to use a virtual environment instead: https://pip.pypa.io/warnings/venv. Use the --root-user-action option if you know what you are doing and want to suppress this warning.\u001b[0m\u001b[33m\n",
      "\u001b[0m\u001b[33mWARNING: Running pip as the 'root' user can result in broken permissions and conflicting behaviour with the system package manager, possibly rendering your system unusable. It is recommended to use a virtual environment instead: https://pip.pypa.io/warnings/venv. Use the --root-user-action option if you know what you are doing and want to suppress this warning.\u001b[0m\u001b[33m\n",
      "\u001b[0m\u001b[33mWARNING: Running pip as the 'root' user can result in broken permissions and conflicting behaviour with the system package manager, possibly rendering your system unusable. It is recommended to use a virtual environment instead: https://pip.pypa.io/warnings/venv. Use the --root-user-action option if you know what you are doing and want to suppress this warning.\u001b[0m\u001b[33m\n",
      "\u001b[0m"
     ]
    }
   ],
   "source": [
    "# Install core PDF processing libraries\n",
    "!pip install pdf2image>=3.0.0 --quiet\n",
    "!pip install pdfplumber>=0.9.0 --quiet\n",
    "\n",
    "# Install OCR capabilities\n",
    "!pip install pytesseract --quiet\n",
    "!pip install Pillow --quiet\n",
    "\n",
    "# Install computer vision and image processing\n",
    "!pip install opencv-python>=4.8.0 --quiet\n",
    "!pip install scikit-image>=0.25.0 --quiet\n",
    "\n",
    "# Install visualization libraries\n",
    "!pip install matplotlib>=3.10.0 --quiet\n",
    "!pip install plotly>=6.3.0 --quiet\n",
    "\n",
    "# Install additional utilities\n",
    "!pip install tabula-py --quiet\n",
    "!pip install easyocr --quiet\n",
    "\n",
    "print(\"✅ All libraries installed successfully!\")"
   ]
  },
  {
   "cell_type": "markdown",
   "metadata": {},
   "source": [
    "### Step 3: Import Libraries and Check Installation\n",
    "\n",
    "Let's import our libraries and verify everything is working correctly. This step helps us catch any installation issues early."
   ]
  },
  {
   "cell_type": "code",
   "execution_count": null,
   "metadata": {},
   "outputs": [],
   "source": "# Core Python libraries\nimport os\nimport sys\nimport logging\nfrom pathlib import Path\nfrom typing import Dict, List, Any, Optional, Tuple\nimport json\nfrom datetime import datetime\n\n# PDF and OCR processing\ntry:\n    import pdf2image\n    # pdf2image doesn't have __version__, so we'll check if it can be imported\n    print(f\"✅ pdf2image imported successfully\")\nexcept ImportError as e:\n    print(f\"❌ pdf2image import failed: {e}\")\n\ntry:\n    import pdfplumber\n    # Try to get version, fallback to success message\n    version = getattr(pdfplumber, '__version__', 'unknown version')\n    print(f\"✅ pdfplumber version: {version}\")\nexcept ImportError as e:\n    print(f\"❌ pdfplumber import failed: {e}\")\n\ntry:\n    import pytesseract\n    print(f\"✅ pytesseract imported successfully\")\nexcept ImportError as e:\n    print(f\"❌ pytesseract import failed: {e}\")\n\n# Image processing\ntry:\n    import cv2\n    print(f\"✅ OpenCV version: {cv2.__version__}\")\nexcept ImportError as e:\n    print(f\"⚠️ OpenCV import failed (will use PIL fallback): {e}\")\n\ntry:\n    from PIL import Image, ImageEnhance\n    # PIL uses PILLOW_VERSION or __version__\n    try:\n        version = Image.__version__\n    except AttributeError:\n        import PIL\n        version = getattr(PIL, '__version__', 'unknown version')\n    print(f\"✅ Pillow (PIL) version: {version}\")\nexcept ImportError as e:\n    print(f\"❌ Pillow import failed: {e}\")\n\ntry:\n    import skimage\n    print(f\"✅ scikit-image version: {skimage.__version__}\")\nexcept ImportError as e:\n    print(f\"❌ scikit-image import failed: {e}\")\n\n# Data processing and visualization\ntry:\n    import numpy as np\n    print(f\"✅ NumPy version: {np.__version__}\")\nexcept ImportError as e:\n    print(f\"❌ NumPy import failed: {e}\")\n\ntry:\n    import pandas as pd\n    print(f\"✅ Pandas version: {pd.__version__}\")\nexcept ImportError as e:\n    print(f\"❌ Pandas import failed: {e}\")\n\ntry:\n    import matplotlib.pyplot as plt\n    import matplotlib\n    print(f\"✅ Matplotlib version: {matplotlib.__version__}\")\nexcept ImportError as e:\n    print(f\"❌ Matplotlib import failed: {e}\")\n\ntry:\n    import plotly.graph_objects as go\n    import plotly\n    print(f\"✅ Plotly version: {plotly.__version__}\")\nexcept ImportError as e:\n    print(f\"❌ Plotly import failed: {e}\")"
  },
  {
   "cell_type": "markdown",
   "metadata": {},
   "source": [
    "### Step 4: Configure System Settings\n",
    "\n",
    "Now let's set up our system configuration. This includes creating directories for our outputs and configuring logging so we can track what our system is doing."
   ]
  },
  {
   "cell_type": "code",
   "execution_count": null,
   "metadata": {},
   "outputs": [],
   "source": [
    "# Create project structure\n",
    "PROJECT_ROOT = Path.cwd()\n",
    "OUTPUT_DIR = PROJECT_ROOT / \"output\"\n",
    "SAMPLE_DATA_DIR = PROJECT_ROOT / \"sample_data\"\n",
    "\n",
    "# Create necessary directories\n",
    "directories_to_create = [\n",
    "    OUTPUT_DIR / \"visual_extraction\" / \"screenshots\",\n",
    "    OUTPUT_DIR / \"visual_extraction\" / \"text\",\n",
    "    OUTPUT_DIR / \"enhanced_extraction\",\n",
    "    OUTPUT_DIR / \"visual_element_extraction\" / \"tables\" / \"extracted\",\n",
    "    OUTPUT_DIR / \"visual_element_extraction\" / \"charts\" / \"extracted\", \n",
    "    OUTPUT_DIR / \"visual_element_extraction\" / \"images\" / \"logos\",\n",
    "    OUTPUT_DIR / \"visual_element_extraction\" / \"images\" / \"photos\",\n",
    "    OUTPUT_DIR / \"visual_element_extraction\" / \"images\" / \"diagrams\",\n",
    "    OUTPUT_DIR / \"visual_element_extraction\" / \"metadata\",\n",
    "    SAMPLE_DATA_DIR\n",
    "]\n",
    "\n",
    "for directory in directories_to_create:\n",
    "    directory.mkdir(parents=True, exist_ok=True)\n",
    "    \n",
    "print(f\"📁 Project root: {PROJECT_ROOT}\")\n",
    "print(f\"📁 Output directory: {OUTPUT_DIR}\")\n",
    "print(f\"📁 Sample data directory: {SAMPLE_DATA_DIR}\")\n",
    "print(\"✅ All directories created successfully!\")"
   ]
  },
  {
   "cell_type": "code",
   "execution_count": null,
   "metadata": {},
   "outputs": [],
   "source": [
    "# Configure logging for our demonstration\n",
    "logging.basicConfig(\n",
    "    level=logging.INFO,\n",
    "    format='%(asctime)s - %(name)s - %(levelname)s - %(message)s',\n",
    "    handlers=[\n",
    "        logging.StreamHandler(sys.stdout),  # Display logs in notebook\n",
    "        logging.FileHandler(OUTPUT_DIR / 'demo_log.txt')  # Save logs to file\n",
    "    ]\n",
    ")\n",
    "\n",
    "logger = logging.getLogger('EcoMetricx_Demo')\n",
    "logger.info(\"🚀 EcoMetricx Demo logging initialized\")\n",
    "\n",
    "# Display system information\n",
    "logger.info(f\"Python version: {sys.version.split()[0]}\")\n",
    "logger.info(f\"Working directory: {PROJECT_ROOT}\")\n",
    "logger.info(f\"Timestamp: {datetime.now().strftime('%Y-%m-%d %H:%M:%S')}\")"
   ]
  },
  {
   "cell_type": "markdown",
   "metadata": {},
   "source": [
    "### Step 5: Configure OCR Settings\n",
    "\n",
    "OCR (Optical Character Recognition) is like teaching our computer to \"read\" text from images. Let's configure it for optimal performance."
   ]
  },
  {
   "cell_type": "code",
   "execution_count": null,
   "metadata": {},
   "outputs": [],
   "source": [
    "# OCR Configuration\n",
    "OCR_CONFIG = {\n",
    "    'tesseract_config': '--oem 3 --psm 6 -c tessedit_char_blacklist=',\n",
    "    'confidence_threshold': 60,  # Minimum confidence score for text recognition\n",
    "    'dpi': 300,  # Resolution for PDF to image conversion\n",
    "    'preprocessing': True  # Apply image enhancement before OCR\n",
    "}\n",
    "\n",
    "# Test OCR installation\n",
    "try:\n",
    "    # Try to get tesseract version\n",
    "    version = pytesseract.get_tesseract_version()\n",
    "    logger.info(f\"✅ Tesseract OCR version: {version}\")\n",
    "    \n",
    "    # Test with a simple image\n",
    "    test_image = Image.new('RGB', (200, 50), color='white')\n",
    "    test_result = pytesseract.image_to_string(test_image)\n",
    "    logger.info(\"✅ OCR test completed successfully\")\n",
    "    \n",
    "except Exception as e:\n",
    "    logger.error(f\"❌ OCR configuration failed: {e}\")\n",
    "    logger.info(\"💡 You may need to install Tesseract OCR separately on your system\")\n",
    "\n",
    "print(\"🔧 OCR Configuration:\")\n",
    "for key, value in OCR_CONFIG.items():\n",
    "    print(f\"  {key}: {value}\")"
   ]
  },
  {
   "cell_type": "markdown",
   "metadata": {},
   "source": [
    "### Step 6: System Health Check\n",
    "\n",
    "Let's run a final check to make sure everything is working properly before we start processing PDFs."
   ]
  },
  {
   "cell_type": "code",
   "execution_count": null,
   "metadata": {},
   "outputs": [],
   "source": [
    "def system_health_check():\n",
    "    \"\"\"Perform a comprehensive health check of our system.\"\"\"\n",
    "    \n",
    "    checks = {\n",
    "        'Python Environment': True,\n",
    "        'Required Directories': True,\n",
    "        'PDF Processing': False,\n",
    "        'Image Processing': False,\n",
    "        'OCR Engine': False,\n",
    "        'Computer Vision': False\n",
    "    }\n",
    "    \n",
    "    # Check PDF processing\n",
    "    try:\n",
    "        import pdf2image, pdfplumber\n",
    "        checks['PDF Processing'] = True\n",
    "        logger.info(\"✅ PDF processing libraries ready\")\n",
    "    except ImportError:\n",
    "        logger.error(\"❌ PDF processing libraries missing\")\n",
    "    \n",
    "    # Check image processing\n",
    "    try:\n",
    "        from PIL import Image\n",
    "        import numpy as np\n",
    "        checks['Image Processing'] = True\n",
    "        logger.info(\"✅ Image processing libraries ready\")\n",
    "    except ImportError:\n",
    "        logger.error(\"❌ Image processing libraries missing\")\n",
    "    \n",
    "    # Check OCR\n",
    "    try:\n",
    "        import pytesseract\n",
    "        pytesseract.get_tesseract_version()\n",
    "        checks['OCR Engine'] = True\n",
    "        logger.info(\"✅ OCR engine ready\")\n",
    "    except Exception:\n",
    "        logger.error(\"❌ OCR engine not available\")\n",
    "    \n",
    "    # Check computer vision\n",
    "    try:\n",
    "        import cv2\n",
    "        checks['Computer Vision'] = True\n",
    "        logger.info(\"✅ Computer vision libraries ready\")\n",
    "    except ImportError:\n",
    "        logger.warning(\"⚠️ OpenCV not available (will use PIL fallback)\")\n",
    "        checks['Computer Vision'] = 'Partial'\n",
    "    \n",
    "    # Display results\n",
    "    print(\"\\n🏥 System Health Check Results:\")\n",
    "    print(\"=\" * 40)\n",
    "    \n",
    "    for component, status in checks.items():\n",
    "        if status == True:\n",
    "            print(f\"✅ {component}: Ready\")\n",
    "        elif status == 'Partial':\n",
    "            print(f\"⚠️ {component}: Partial (with fallback)\")\n",
    "        else:\n",
    "            print(f\"❌ {component}: Not Ready\")\n",
    "    \n",
    "    # Overall status\n",
    "    ready_count = sum(1 for status in checks.values() if status == True)\n",
    "    total_count = len(checks)\n",
    "    \n",
    "    print(f\"\\n📊 Overall Status: {ready_count}/{total_count} components ready\")\n",
    "    \n",
    "    if ready_count >= 4:  # Minimum required components\n",
    "        print(\"🎉 System is ready for PDF processing!\")\n",
    "        return True\n",
    "    else:\n",
    "        print(\"⚠️ Some components need attention before proceeding\")\n",
    "        return False\n",
    "\n",
    "# Run the health check\n",
    "system_ready = system_health_check()"
   ]
  },
  {
   "cell_type": "markdown",
   "metadata": {},
   "source": [
    "---\n",
    "\n",
    "## 🎊 Setup Complete!\n",
    "\n",
    "Congratulations! Your EcoMetricx environment is now configured and ready to process PDFs. \n",
    "\n",
    "### What We've Accomplished:\n",
    "\n",
    "1. ✅ **Verified Python environment** and confirmed we're using the right setup\n",
    "2. ✅ **Installed all required libraries** for PDF processing, OCR, and computer vision\n",
    "3. ✅ **Created organized directory structure** for managing outputs\n",
    "4. ✅ **Configured logging system** to track our processing activities\n",
    "5. ✅ **Set up OCR engine** for reading text from images\n",
    "6. ✅ **Performed system health check** to ensure everything works properly\n",
    "\n",
    "### Next Steps:\n",
    "\n",
    "In the following sections, we'll demonstrate:\n",
    "- 📄 **Loading and analyzing PDF documents**\n",
    "- 🔍 **Comparing different extraction methods**\n",
    "- 🎯 **Visual element detection and extraction**\n",
    "- 📊 **Performance analysis and metrics**\n",
    "- 💡 **Real-world applications and use cases**\n",
    "\n",
    "---\n",
    "\n",
    "*Ready to see some PDF magic? Let's continue to the next section!* ✨"
   ]
  }
 ],
 "metadata": {
  "kernelspec": {
   "display_name": "pdf-extractor",
   "language": "python",
   "name": "python3"
  },
  "language_info": {
   "codemirror_mode": {
    "name": "ipython",
    "version": 3
   },
   "file_extension": ".py",
   "mimetype": "text/x-python",
   "name": "python",
   "nbconvert_exporter": "python",
   "pygments_lexer": "ipython3",
   "version": "3.11.13"
  }
 },
 "nbformat": 4,
 "nbformat_minor": 4
}