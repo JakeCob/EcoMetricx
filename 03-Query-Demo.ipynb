{
  "cells": [
    {
      "cell_type": "markdown",
      "metadata": {},
      "source": [
        "# EcoMetricx — Retrieval Demo (MVP)\n",
        "\n",
        "This notebook demos the early query system pipeline:\n",
        "- Load normalized documents (Phase 2 output)\n",
        "- If missing, auto-run normalization to generate it\n",
        "- Chunk into retrieval units (simple, page-aware)\n",
        "- Build a TF-IDF index (CPU-only)\n",
        "- Run keyword/semantic-ish search and show citations\n",
        "\n",
        "Run cells top-to-bottom to try queries.\n"
      ]
    },
    {
      "cell_type": "code",
      "execution_count": 5,
      "metadata": {},
      "outputs": [
        {
          "name": "stdout",
          "output_type": "stream",
          "text": [
            "Project root: /root/Programming Projects/Personal/EcoMetricx\n",
            "Current run_id: 20250903_093826\n"
          ]
        }
      ],
      "source": [
        "from pathlib import Path\n",
        "import json, subprocess, sys\n",
        "from datetime import datetime\n",
        "\n",
        "project_root = Path.cwd()\n",
        "run_id_path = project_root / '.current_run_id'\n",
        "run_id = run_id_path.read_text().strip() if run_id_path.exists() else None\n",
        "print('Project root:', project_root)\n",
        "print('Current run_id:', run_id)"
      ]
    },
    {
      "cell_type": "code",
      "execution_count": 6,
      "metadata": {},
      "outputs": [
        {
          "name": "stdout",
          "output_type": "stream",
          "text": [
            "Documents loaded: 1\n",
            "Document id: emx:visual_extraction:6a55e73ff2d9\n"
          ]
        }
      ],
      "source": [
        "# Ensure normalized documents exist; auto-run normalization if missing\n",
        "norm_base = project_root / 'data' / 'normalized' / 'visual_extraction'\n",
        "if run_id is None or not (norm_base / run_id / 'documents.jsonl').exists():\n",
        "\tprint('Normalized documents missing; running normalization script...')\n",
        "\tret = subprocess.run([sys.executable, str(project_root / 'scripts' / 'normalize_to_documents.py')], capture_output=True, text=True)\n",
        "\tprint(ret.stdout or ret.stderr)\n",
        "\t# Refresh run_id if it was None\n",
        "\tif run_id is None and run_id_path.exists():\n",
        "\t\trun_id = run_id_path.read_text().strip()\n",
        "\n",
        "norm_doc = norm_base / run_id / 'documents.jsonl'\n",
        "assert norm_doc.exists(), f'Missing {norm_doc}'\n",
        "rows = [json.loads(l) for l in norm_doc.read_text(encoding='utf-8').splitlines() if l.strip()]\n",
        "print('Documents loaded:', len(rows))\n",
        "print('Document id:', rows[0]['document_id'])\n"
      ]
    },
    {
      "cell_type": "markdown",
      "metadata": {},
      "source": [
        "## Create simple chunks (page-aware)\n",
        "We split the document text by pages into retrieval units and attach page numbers and a section path placeholder.\n"
      ]
    },
    {
      "cell_type": "code",
      "execution_count": 7,
      "metadata": {},
      "outputs": [
        {
          "name": "stdout",
          "output_type": "stream",
          "text": [
            "Chunks: 2\n",
            "Home Energy Report: electricity March report Account number: 954137 Service address: 1627 Tulip Lane Dear JILL DOE, here is your usage analysis for March. Your electric use: 18% more than similar near...\n"
          ]
        }
      ],
      "source": [
        "doc = rows[0]\n",
        "chunks = []\n",
        "for p in doc.get('pages', []):\n",
        "\ttext = p.get('text','').strip()\n",
        "\tif not text:\n",
        "\t\tcontinue\n",
        "\tchunks.append({\n",
        "\t\t'chunk_index': len(chunks),\n",
        "\t\t'page_num': p.get('page_number', 0),\n",
        "\t\t'parent_document_id': doc['document_id'],\n",
        "\t\t'section_path': f\"page/{p.get('page_number', 0)}\",\n",
        "\t\t'text': text\n",
        "\t})\n",
        "print('Chunks:', len(chunks))\n",
        "print(chunks[0]['text'][:200] + ('...' if len(chunks[0]['text'])>200 else ''))\n"
      ]
    },
    {
      "cell_type": "markdown",
      "metadata": {},
      "source": [
        "## Build TF-IDF index\n",
        "We use scikit-learn's `TfidfVectorizer` to index chunk texts for quick keyword/semantic-ish search.\n"
      ]
    },
    {
      "cell_type": "code",
      "execution_count": 8,
      "metadata": {},
      "outputs": [
        {
          "name": "stdout",
          "output_type": "stream",
          "text": [
            "Index shape: (2, 135)\n"
          ]
        }
      ],
      "source": [
        "from sklearn.feature_extraction.text import TfidfVectorizer\n",
        "from sklearn.metrics.pairwise import cosine_similarity\n",
        "\n",
        "corpus = [c['text'] for c in chunks]\n",
        "vectorizer = TfidfVectorizer(stop_words='english', max_features=5000)\n",
        "X = vectorizer.fit_transform(corpus)\n",
        "print('Index shape:', X.shape)\n",
        "\n"
      ]
    },
    {
      "cell_type": "markdown",
      "metadata": {},
      "source": [
        "## Try a query\n",
        "Enter a query. We compute cosine similarity in TF-IDF space and show top results with citations (document id + page).\n"
      ]
    },
    {
      "cell_type": "code",
      "execution_count": 9,
      "metadata": {},
      "outputs": [
        {
          "name": "stdout",
          "output_type": "stream",
          "text": [
            "0.4048466114956216 emx:visual_extraction:6a55e73ff2d9 page 1\n",
            "Your top three tailored energy-saving tips Caulk windows and doors Upgrade your refrigerator Adjust thermostat settings Save money and energy Look for an Energy Star label Biggest energy saving option One of the biggest Older model Set your...\n",
            "---\n",
            "0.12844813733286536 emx:visual_extraction:6a55e73ff2d9 page 0\n",
            "Home Energy Report: electricity March report Account number: 954137 Service address: 1627 Tulip Lane Dear JILL DOE, here is your usage analysis for March. Your electric use: 18% more than similar nearby homes You TT A bove Similar nearby ho...\n",
            "---\n"
          ]
        }
      ],
      "source": [
        "def search(query: str, k: int = 3):\n",
        "\tqv = vectorizer.transform([query])\n",
        "\tscores = cosine_similarity(qv, X)[0]\n",
        "\ttopk = scores.argsort()[::-1][:k]\n",
        "\tresults = []\n",
        "\tfor idx in topk:\n",
        "\t\tc = chunks[idx]\n",
        "\t\tresults.append({\n",
        "\t\t\t'score': float(scores[idx]),\n",
        "\t\t\t'document_id': c['parent_document_id'],\n",
        "\t\t\t'page_num': c['page_num'],\n",
        "\t\t\t'section_path': c['section_path'],\n",
        "\t\t\t'snippet': c['text'][:240] + ('...' if len(c['text'])>240 else '')\n",
        "\t\t})\n",
        "\treturn results\n",
        "\n",
        "for r in search('energy savings tips'):\n",
        "\tprint(r['score'], r['document_id'], f\"page {r['page_num']}\")\n",
        "\tprint(r['snippet'])\n",
        "\tprint('---')\n",
        "\n"
      ]
    },
    {
      "cell_type": "code",
      "execution_count": null,
      "metadata": {},
      "outputs": [],
      "source": []
    }
  ],
  "metadata": {
    "kernelspec": {
      "display_name": "pdf-extractor",
      "language": "python",
      "name": "python3"
    },
    "language_info": {
      "codemirror_mode": {
        "name": "ipython",
        "version": 3
      },
      "file_extension": ".py",
      "mimetype": "text/x-python",
      "name": "python",
      "nbconvert_exporter": "python",
      "pygments_lexer": "ipython3",
      "version": "3.11.13"
    }
  },
  "nbformat": 4,
  "nbformat_minor": 2
}
